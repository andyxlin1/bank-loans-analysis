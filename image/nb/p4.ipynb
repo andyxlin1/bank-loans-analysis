{
 "cells": [
  {
   "cell_type": "code",
   "execution_count": 2,
   "id": "b12a82f7-13ec-4f46-97bb-c9504ec3a324",
   "metadata": {},
   "outputs": [],
   "source": [
    "from pyspark.sql.functions import col, expr, row_number"
   ]
  },
  {
   "cell_type": "code",
   "execution_count": 3,
   "id": "2686b68f-e66c-4e38-b326-d62268537217",
   "metadata": {},
   "outputs": [
    {
     "name": "stderr",
     "output_type": "stream",
     "text": [
      "Using Spark's default log4j profile: org/apache/spark/log4j-defaults.properties\n",
      "Setting default log level to \"WARN\".\n",
      "To adjust logging level use sc.setLogLevel(newLevel). For SparkR, use setLogLevel(newLevel).\n",
      "23/03/31 21:22:49 WARN NativeCodeLoader: Unable to load native-hadoop library for your platform... using builtin-java classes where applicable\n"
     ]
    }
   ],
   "source": [
    "# setup - create spark session\n",
    "from pyspark.sql import SparkSession\n",
    "spark = (SparkSession.builder.appName(\"cs544\")\n",
    "         .master(\"spark://main:7077\")\n",
    "         .config(\"spark.executor.memory\", \"512M\")\n",
    "         .config(\"spark.sql.warehouse.dir\", \"hdfs://main:9000/user/hive/warehouse\")\n",
    "         .enableHiveSupport()\n",
    "         .getOrCreate())"
   ]
  },
  {
   "cell_type": "code",
   "execution_count": 3,
   "id": "eac005f3-88f4-4bde-8235-b8564401051a",
   "metadata": {},
   "outputs": [
    {
     "name": "stdout",
     "output_type": "stream",
     "text": [
      "--2023-03-29 23:00:59--  https://pages.cs.wisc.edu/~harter/cs639/data/hdma-wi-2021.zip\n",
      "Resolving pages.cs.wisc.edu (pages.cs.wisc.edu)... 128.105.7.9\n",
      "Connecting to pages.cs.wisc.edu (pages.cs.wisc.edu)|128.105.7.9|:443... connected.\n",
      "HTTP request sent, awaiting response... 200 OK\n",
      "Length: 21494278 (20M) [application/zip]\n",
      "Saving to: ‘hdma-wi-2021.zip.1’\n",
      "\n",
      "hdma-wi-2021.zip.1  100%[===================>]  20.50M  28.6MB/s    in 0.7s    \n",
      "\n",
      "2023-03-29 23:01:00 (28.6 MB/s) - ‘hdma-wi-2021.zip.1’ saved [21494278/21494278]\n",
      "\n",
      "--2023-03-29 23:01:00--  https://pages.cs.wisc.edu/~harter/cs639/data/arid2017_to_lei_xref_csv.zip\n",
      "Resolving pages.cs.wisc.edu (pages.cs.wisc.edu)... 128.105.7.9\n",
      "Connecting to pages.cs.wisc.edu (pages.cs.wisc.edu)|128.105.7.9|:443... connected.\n",
      "HTTP request sent, awaiting response... 200 OK\n",
      "Length: 144804 (141K) [application/zip]\n",
      "Saving to: ‘arid2017_to_lei_xref_csv.zip.1’\n",
      "\n",
      "arid2017_to_lei_xre 100%[===================>] 141.41K  --.-KB/s    in 0.1s    \n",
      "\n",
      "2023-03-29 23:01:01 (1.22 MB/s) - ‘arid2017_to_lei_xref_csv.zip.1’ saved [144804/144804]\n",
      "\n",
      "--2023-03-29 23:01:01--  https://pages.cs.wisc.edu/~harter/cs639/data/code_sheets.zip\n",
      "Resolving pages.cs.wisc.edu (pages.cs.wisc.edu)... 128.105.7.9\n",
      "Connecting to pages.cs.wisc.edu (pages.cs.wisc.edu)|128.105.7.9|:443... connected.\n",
      "HTTP request sent, awaiting response... 200 OK\n",
      "Length: 798030 (779K) [application/zip]\n",
      "Saving to: ‘code_sheets.zip.1’\n",
      "\n",
      "code_sheets.zip.1   100%[===================>] 779.33K  3.67MB/s    in 0.2s    \n",
      "\n",
      "2023-03-29 23:01:01 (3.67 MB/s) - ‘code_sheets.zip.1’ saved [798030/798030]\n",
      "\n"
     ]
    }
   ],
   "source": [
    "# setup - download datasets\n",
    "!wget https://pages.cs.wisc.edu/~harter/cs639/data/hdma-wi-2021.zip\n",
    "!wget https://pages.cs.wisc.edu/~harter/cs639/data/arid2017_to_lei_xref_csv.zip\n",
    "!wget https://pages.cs.wisc.edu/~harter/cs639/data/code_sheets.zip"
   ]
  },
  {
   "cell_type": "code",
   "execution_count": 4,
   "id": "601887a6-d04e-433d-a2aa-d11a2158f267",
   "metadata": {},
   "outputs": [
    {
     "name": "stdout",
     "output_type": "stream",
     "text": [
      "Archive:  hdma-wi-2021.zip\n",
      "replace hdma-wi-2021.csv? [y]es, [n]o, [A]ll, [N]one, [r]ename: ^C\n",
      "Archive:  arid2017_to_lei_xref_csv.zip\n",
      "replace arid2017_to_lei_xref_csv.csv? [y]es, [n]o, [A]ll, [N]one, [r]ename: ^C\n",
      "Archive:  code_sheets.zip\n",
      "replace action_taken.csv? [y]es, [n]o, [A]ll, [N]one, [r]ename: ^C\n"
     ]
    }
   ],
   "source": [
    "# setup - extract datasets\n",
    "!unzip hdma-wi-2021.zip\n",
    "!unzip arid2017_to_lei_xref_csv.zip\n",
    "!unzip code_sheets.zip"
   ]
  },
  {
   "cell_type": "code",
   "execution_count": 5,
   "id": "43d4a924-ed45-4ae4-9cd3-3535e5319d30",
   "metadata": {},
   "outputs": [
    {
     "name": "stderr",
     "output_type": "stream",
     "text": [
      "23/03/31 21:25:09 WARN HadoopFSUtils: The directory hdfs://main:9000/user/hive/warehouse/banks was not found. Was it deleted very recently?\n",
      "23/03/31 21:25:10 WARN FileUtils: File does not exist: hdfs://main:9000/user/hive/warehouse/banks; Force to delete it.\n",
      "23/03/31 21:25:10 ERROR FileUtils: Failed to delete hdfs://main:9000/user/hive/warehouse/banks\n",
      "23/03/31 21:25:14 WARN SessionState: METASTORE_FILTER_HOOK will be ignored, since hive.security.authorization.manager is set to instance of HiveAuthorizerFactory.\n",
      "23/03/31 21:25:14 WARN HiveConf: HiveConf of name hive.internal.ss.authz.settings.applied.marker does not exist\n",
      "23/03/31 21:25:14 WARN HiveConf: HiveConf of name hive.stats.jdbc.timeout does not exist\n",
      "23/03/31 21:25:14 WARN HiveConf: HiveConf of name hive.stats.retries.wait does not exist\n",
      "23/03/31 21:25:23 WARN HadoopFSUtils: The directory hdfs://main:9000/user/hive/warehouse/loans was not found. Was it deleted very recently?\n",
      "23/03/31 21:25:24 WARN FileUtils: File does not exist: hdfs://main:9000/user/hive/warehouse/loans; Force to delete it.\n",
      "23/03/31 21:25:24 ERROR FileUtils: Failed to delete hdfs://main:9000/user/hive/warehouse/loans\n",
      "23/03/31 21:25:24 WARN package: Truncated the string representation of a plan since it was too large. This behavior can be adjusted by setting 'spark.sql.debug.maxToStringFields'.\n",
      "                                                                                \r"
     ]
    }
   ],
   "source": [
    "# setup - save in hdfs and spark\n",
    "import os\n",
    "directory = os.fsencode(\"/notebooks\");\n",
    "code_sheets_list = [\"ethnicity.csv\", \"race.csv\", \"sex.csv\", \"states.csv\", \"counties.csv\", \"tracts.csv\", \"action_taken.csv\", \"denial_reason.csv\", \"loan_type.csv\", \"loan_purpose.csv\", \"preapproval.csv\", \"property_type.csv\"]\n",
    "\n",
    "#store in hdfs and create views\n",
    "for file in os.listdir(directory):\n",
    "    filename = os.fsdecode(file)\n",
    "    if filename.endswith(\".csv\"):\n",
    "        !hdfs dfs -cp {filename} hdfs://main:9000/{filename}\n",
    "        if filename in code_sheets_list:\n",
    "            (spark.read.format(\"csv\")\n",
    "                .option(\"header\", True)\n",
    "                .option(\"inferSchema\", True)\n",
    "                .load(f\"hdfs://main:9000/{filename}\")).createOrReplaceTempView(filename.split(\".\")[0])\n",
    "#banks\n",
    "(spark.read.format(\"csv\")\n",
    "    .option(\"header\", True)\n",
    "    .option(\"inferSchema\", True)\n",
    "    .load(\"hdfs://main:9000/arid2017_to_lei_xref_csv.csv\")).write.saveAsTable(\"banks\", mode=\"overwrite\")\n",
    "\n",
    "#loans\n",
    "spark.read.csv(f\"hdfs://main:9000/hdma-wi-2021.csv\", header=True, inferSchema=True).write.bucketBy(8, \"county_code\").saveAsTable(\"loans\", mode=\"overwrite\")\n",
    "        "
   ]
  },
  {
   "cell_type": "code",
   "execution_count": 6,
   "id": "a1ebbac9-a1fc-4d3f-b157-8d8b9700cab0",
   "metadata": {},
   "outputs": [
    {
     "name": "stdout",
     "output_type": "stream",
     "text": [
      "+---------+-------------+-----------+\n",
      "|namespace|    tableName|isTemporary|\n",
      "+---------+-------------+-----------+\n",
      "|  default|        banks|      false|\n",
      "|  default|        loans|      false|\n",
      "|         | action_taken|       true|\n",
      "|         |     counties|       true|\n",
      "|         |denial_reason|       true|\n",
      "|         |    ethnicity|       true|\n",
      "|         | loan_purpose|       true|\n",
      "|         |    loan_type|       true|\n",
      "|         |  preapproval|       true|\n",
      "|         |property_type|       true|\n",
      "|         |         race|       true|\n",
      "|         |          sex|       true|\n",
      "|         |       states|       true|\n",
      "|         |       tracts|       true|\n",
      "+---------+-------------+-----------+\n",
      "\n"
     ]
    }
   ],
   "source": [
    "#Q1\n",
    "spark.sql(\"SHOW TABLES\").show()"
   ]
  },
  {
   "cell_type": "code",
   "execution_count": 5,
   "id": "15de3a81-ed69-4383-a069-33c73809554a",
   "metadata": {},
   "outputs": [
    {
     "name": "stderr",
     "output_type": "stream",
     "text": [
      "                                                                                \r"
     ]
    },
    {
     "name": "stdout",
     "output_type": "stream",
     "text": [
      "525\n"
     ]
    },
    {
     "data": {
      "text/html": [
       "<div>\n",
       "<style scoped>\n",
       "    .dataframe tbody tr th:only-of-type {\n",
       "        vertical-align: middle;\n",
       "    }\n",
       "\n",
       "    .dataframe tbody tr th {\n",
       "        vertical-align: top;\n",
       "    }\n",
       "\n",
       "    .dataframe thead th {\n",
       "        text-align: right;\n",
       "    }\n",
       "</style>\n",
       "<table border=\"1\" class=\"dataframe\">\n",
       "  <thead>\n",
       "    <tr style=\"text-align: right;\">\n",
       "      <th></th>\n",
       "      <th>respondent_name</th>\n",
       "      <th>arid_2017</th>\n",
       "      <th>lei_2018</th>\n",
       "      <th>lei_2019</th>\n",
       "      <th>lei_2020</th>\n",
       "    </tr>\n",
       "  </thead>\n",
       "  <tbody>\n",
       "    <tr>\n",
       "      <th>0</th>\n",
       "      <td>Old Second National Bank</td>\n",
       "      <td>14596</td>\n",
       "      <td>B94HV8SXGDD3J5XESU08</td>\n",
       "      <td>B94HV8SXGDD3J5XESU08</td>\n",
       "      <td>B94HV8SXGDD3J5XESU08</td>\n",
       "    </tr>\n",
       "  </tbody>\n",
       "</table>\n",
       "</div>"
      ],
      "text/plain": [
       "            respondent_name arid_2017              lei_2018  \\\n",
       "0  Old Second National Bank     14596  B94HV8SXGDD3J5XESU08   \n",
       "\n",
       "               lei_2019              lei_2020  \n",
       "0  B94HV8SXGDD3J5XESU08  B94HV8SXGDD3J5XESU08  "
      ]
     },
     "execution_count": 5,
     "metadata": {},
     "output_type": "execute_result"
    }
   ],
   "source": [
    "#Q2\n",
    "\n",
    "# banks with first\n",
    "print(spark.sql(\"\"\"\n",
    "SELECT *\n",
    "FROM banks\n",
    "WHERE LOWER(respondent_name) LIKE '%first%'\n",
    "\"\"\").count())\n",
    "\n",
    "# banks with second\n",
    "spark.sql(\"\"\"\n",
    "SELECT *\n",
    "FROM banks\n",
    "WHERE LOWER(respondent_name) LIKE '%second%'\n",
    "\"\"\").toPandas()\n"
   ]
  },
  {
   "cell_type": "code",
   "execution_count": 6,
   "id": "8fcf6bb9-8ac6-497b-856e-58b96ddbefa7",
   "metadata": {},
   "outputs": [
    {
     "name": "stderr",
     "output_type": "stream",
     "text": [
      "                                                                                \r"
     ]
    },
    {
     "data": {
      "text/plain": [
       "242"
      ]
     },
     "execution_count": 6,
     "metadata": {},
     "output_type": "execute_result"
    }
   ],
   "source": [
    "#Q3\n",
    "# I choose Badger Bank\n",
    "q3_results = spark.sql(\"\"\"\n",
    "SELECT *\n",
    "FROM banks\n",
    "INNER JOIN loans \n",
    "ON banks.lei_2020 = loans.lei\n",
    "WHERE respondent_name = 'Badger Bank'\n",
    "\"\"\")\n",
    "q3_results.count()\n"
   ]
  },
  {
   "cell_type": "code",
   "execution_count": 7,
   "id": "3485dd93-e33d-4fe4-8b62-4e060303b05d",
   "metadata": {},
   "outputs": [
    {
     "name": "stdout",
     "output_type": "stream",
     "text": [
      "== Physical Plan ==\n",
      "AdaptiveSparkPlan (7)\n",
      "+- BroadcastHashJoin Inner BuildLeft (6)\n",
      "   :- BroadcastExchange (3)\n",
      "   :  +- Filter (2)\n",
      "   :     +- Scan parquet default.banks (1)\n",
      "   +- Filter (5)\n",
      "      +- Scan parquet default.loans (4)\n",
      "\n",
      "\n",
      "(1) Scan parquet default.banks\n",
      "Output [5]: [respondent_name#947, arid_2017#948, lei_2018#949, lei_2019#950, lei_2020#951]\n",
      "Batched: true\n",
      "Location: InMemoryFileIndex [hdfs://main:9000/user/hive/warehouse/banks]\n",
      "PushedFilters: [IsNotNull(respondent_name), EqualTo(respondent_name,Badger Bank), IsNotNull(lei_2020)]\n",
      "ReadSchema: struct<respondent_name:string,arid_2017:string,lei_2018:string,lei_2019:string,lei_2020:string>\n",
      "\n",
      "(2) Filter\n",
      "Input [5]: [respondent_name#947, arid_2017#948, lei_2018#949, lei_2019#950, lei_2020#951]\n",
      "Condition : ((isnotnull(respondent_name#947) AND (respondent_name#947 = Badger Bank)) AND isnotnull(lei_2020#951))\n",
      "\n",
      "(3) BroadcastExchange\n",
      "Input [5]: [respondent_name#947, arid_2017#948, lei_2018#949, lei_2019#950, lei_2020#951]\n",
      "Arguments: HashedRelationBroadcastMode(List(input[4, string, false]),false), [plan_id=562]\n",
      "\n",
      "(4) Scan parquet default.loans\n",
      "Output [99]: [activity_year#972, lei#973, derived_msa-md#974, state_code#975, county_code#976, census_tract#977, conforming_loan_limit#978, derived_loan_product_type#979, derived_dwelling_category#980, derived_ethnicity#981, derived_race#982, derived_sex#983, action_taken#984, purchaser_type#985, preapproval#986, loan_type#987, loan_purpose#988, lien_status#989, reverse_mortgage#990, open-end_line_of_credit#991, business_or_commercial_purpose#992, loan_amount#993, loan_to_value_ratio#994, interest_rate#995, rate_spread#996, hoepa_status#997, total_loan_costs#998, total_points_and_fees#999, origination_charges#1000, discount_points#1001, lender_credits#1002, loan_term#1003, prepayment_penalty_term#1004, intro_rate_period#1005, negative_amortization#1006, interest_only_payment#1007, balloon_payment#1008, other_nonamortizing_features#1009, property_value#1010, construction_method#1011, occupancy_type#1012, manufactured_home_secured_property_type#1013, manufactured_home_land_property_interest#1014, total_units#1015, multifamily_affordable_units#1016, income#1017, debt_to_income_ratio#1018, applicant_credit_score_type#1019, co-applicant_credit_score_type#1020, applicant_ethnicity-1#1021, applicant_ethnicity-2#1022, applicant_ethnicity-3#1023, applicant_ethnicity-4#1024, applicant_ethnicity-5#1025, co-applicant_ethnicity-1#1026, co-applicant_ethnicity-2#1027, co-applicant_ethnicity-3#1028, co-applicant_ethnicity-4#1029, co-applicant_ethnicity-5#1030, applicant_ethnicity_observed#1031, co-applicant_ethnicity_observed#1032, applicant_race-1#1033, applicant_race-2#1034, applicant_race-3#1035, applicant_race-4#1036, applicant_race-5#1037, co-applicant_race-1#1038, co-applicant_race-2#1039, co-applicant_race-3#1040, co-applicant_race-4#1041, co-applicant_race-5#1042, applicant_race_observed#1043, co-applicant_race_observed#1044, applicant_sex#1045, co-applicant_sex#1046, applicant_sex_observed#1047, co-applicant_sex_observed#1048, applicant_age#1049, co-applicant_age#1050, applicant_age_above_62#1051, co-applicant_age_above_62#1052, submission_of_application#1053, initially_payable_to_institution#1054, aus-1#1055, aus-2#1056, aus-3#1057, aus-4#1058, aus-5#1059, denial_reason-1#1060, denial_reason-2#1061, denial_reason-3#1062, denial_reason-4#1063, tract_population#1064, tract_minority_population_percent#1065, ffiec_msa_md_median_family_income#1066, tract_to_msa_income_percentage#1067, tract_owner_occupied_units#1068, tract_one_to_four_family_homes#1069, tract_median_age_of_housing_units#1070]\n",
      "Batched: true\n",
      "Location: InMemoryFileIndex [hdfs://main:9000/user/hive/warehouse/loans]\n",
      "PushedFilters: [IsNotNull(lei)]\n",
      "ReadSchema: struct<activity_year:int,lei:string,derived_msa-md:int,state_code:string,county_code:string,census_tract:string,conforming_loan_limit:string,derived_loan_product_type:string,derived_dwelling_category:string,derived_ethnicity:string,derived_race:string,derived_sex:string,action_taken:int,purchaser_type:int,preapproval:int,loan_type:int,loan_purpose:int,lien_status:int,reverse_mortgage:int,open-end_line_of_credit:int,business_or_commercial_purpose:int,loan_amount:double,loan_to_value_ratio:string,interest_rate:string,rate_spread:string,hoepa_status:int,total_loan_costs:string,total_points_and_fees:string,origination_charges:string,discount_points:string,lender_credits:string,loan_term:string,prepayment_penalty_term:string,intro_rate_period:string,negative_amortization:int,interest_only_payment:int,balloon_payment:int,other_nonamortizing_features:int,property_value:string,construction_method:int,occupancy_type:int,manufactured_home_secured_property_type:int,manufactured_home_land_property_interest:int,total_units:string,multifamily_affordable_units:string,income:string,debt_to_income_ratio:string,applicant_credit_score_type:int,co-applicant_credit_score_type:int,applicant_ethnicity-1:int,applicant_ethnicity-2:int,applicant_ethnicity-3:int,applicant_ethnicity-4:int,applicant_ethnicity-5:int,co-applicant_ethnicity-1:int,co-applicant_ethnicity-2:int,co-applicant_ethnicity-3:int,co-applicant_ethnicity-4:int,co-applicant_ethnicity-5:string,applicant_ethnicity_observed:int,co-applicant_ethnicity_observed:int,applicant_race-1:int,applicant_race-2:int,applicant_race-3:int,applicant_race-4:int,applicant_race-5:int,co-applicant_race-1:int,co-applicant_race-2:int,co-applicant_race-3:int,co-applicant_race-4:int,co-applicant_race-5:int,applicant_race_observed:int,co-applicant_race_observed:int,applicant_sex:int,co-applicant_sex:int,applicant_sex_observed:int,co-applicant_sex_observed:int,applicant_age:string,co-applicant_age:string,applicant_age_above_62:string,co-applicant_age_above_62:string,submission_of_application:int,initially_payable_to_institution:int,aus-1:int,aus-2:int,aus-3:int,aus-4:int,aus-5:int,denial_reason-1:int,denial_reason-2:int,denial_reason-3:int,denial_reason-4:int,tract_population:int,tract_minority_population_percent:double,ffiec_msa_md_median_family_income:int,tract_to_msa_income_percentage:int,tract_owner_occupied_units:int,tract_one_to_four_family_homes:int,tract_median_age_of_housing_units:int>\n",
      "\n",
      "(5) Filter\n",
      "Input [99]: [activity_year#972, lei#973, derived_msa-md#974, state_code#975, county_code#976, census_tract#977, conforming_loan_limit#978, derived_loan_product_type#979, derived_dwelling_category#980, derived_ethnicity#981, derived_race#982, derived_sex#983, action_taken#984, purchaser_type#985, preapproval#986, loan_type#987, loan_purpose#988, lien_status#989, reverse_mortgage#990, open-end_line_of_credit#991, business_or_commercial_purpose#992, loan_amount#993, loan_to_value_ratio#994, interest_rate#995, rate_spread#996, hoepa_status#997, total_loan_costs#998, total_points_and_fees#999, origination_charges#1000, discount_points#1001, lender_credits#1002, loan_term#1003, prepayment_penalty_term#1004, intro_rate_period#1005, negative_amortization#1006, interest_only_payment#1007, balloon_payment#1008, other_nonamortizing_features#1009, property_value#1010, construction_method#1011, occupancy_type#1012, manufactured_home_secured_property_type#1013, manufactured_home_land_property_interest#1014, total_units#1015, multifamily_affordable_units#1016, income#1017, debt_to_income_ratio#1018, applicant_credit_score_type#1019, co-applicant_credit_score_type#1020, applicant_ethnicity-1#1021, applicant_ethnicity-2#1022, applicant_ethnicity-3#1023, applicant_ethnicity-4#1024, applicant_ethnicity-5#1025, co-applicant_ethnicity-1#1026, co-applicant_ethnicity-2#1027, co-applicant_ethnicity-3#1028, co-applicant_ethnicity-4#1029, co-applicant_ethnicity-5#1030, applicant_ethnicity_observed#1031, co-applicant_ethnicity_observed#1032, applicant_race-1#1033, applicant_race-2#1034, applicant_race-3#1035, applicant_race-4#1036, applicant_race-5#1037, co-applicant_race-1#1038, co-applicant_race-2#1039, co-applicant_race-3#1040, co-applicant_race-4#1041, co-applicant_race-5#1042, applicant_race_observed#1043, co-applicant_race_observed#1044, applicant_sex#1045, co-applicant_sex#1046, applicant_sex_observed#1047, co-applicant_sex_observed#1048, applicant_age#1049, co-applicant_age#1050, applicant_age_above_62#1051, co-applicant_age_above_62#1052, submission_of_application#1053, initially_payable_to_institution#1054, aus-1#1055, aus-2#1056, aus-3#1057, aus-4#1058, aus-5#1059, denial_reason-1#1060, denial_reason-2#1061, denial_reason-3#1062, denial_reason-4#1063, tract_population#1064, tract_minority_population_percent#1065, ffiec_msa_md_median_family_income#1066, tract_to_msa_income_percentage#1067, tract_owner_occupied_units#1068, tract_one_to_four_family_homes#1069, tract_median_age_of_housing_units#1070]\n",
      "Condition : isnotnull(lei#973)\n",
      "\n",
      "(6) BroadcastHashJoin\n",
      "Left keys [1]: [lei_2020#951]\n",
      "Right keys [1]: [lei#973]\n",
      "Join condition: None\n",
      "\n",
      "(7) AdaptiveSparkPlan\n",
      "Output [104]: [respondent_name#947, arid_2017#948, lei_2018#949, lei_2019#950, lei_2020#951, activity_year#972, lei#973, derived_msa-md#974, state_code#975, county_code#976, census_tract#977, conforming_loan_limit#978, derived_loan_product_type#979, derived_dwelling_category#980, derived_ethnicity#981, derived_race#982, derived_sex#983, action_taken#984, purchaser_type#985, preapproval#986, loan_type#987, loan_purpose#988, lien_status#989, reverse_mortgage#990, open-end_line_of_credit#991, business_or_commercial_purpose#992, loan_amount#993, loan_to_value_ratio#994, interest_rate#995, rate_spread#996, hoepa_status#997, total_loan_costs#998, total_points_and_fees#999, origination_charges#1000, discount_points#1001, lender_credits#1002, loan_term#1003, prepayment_penalty_term#1004, intro_rate_period#1005, negative_amortization#1006, interest_only_payment#1007, balloon_payment#1008, other_nonamortizing_features#1009, property_value#1010, construction_method#1011, occupancy_type#1012, manufactured_home_secured_property_type#1013, manufactured_home_land_property_interest#1014, total_units#1015, multifamily_affordable_units#1016, income#1017, debt_to_income_ratio#1018, applicant_credit_score_type#1019, co-applicant_credit_score_type#1020, applicant_ethnicity-1#1021, applicant_ethnicity-2#1022, applicant_ethnicity-3#1023, applicant_ethnicity-4#1024, applicant_ethnicity-5#1025, co-applicant_ethnicity-1#1026, co-applicant_ethnicity-2#1027, co-applicant_ethnicity-3#1028, co-applicant_ethnicity-4#1029, co-applicant_ethnicity-5#1030, applicant_ethnicity_observed#1031, co-applicant_ethnicity_observed#1032, applicant_race-1#1033, applicant_race-2#1034, applicant_race-3#1035, applicant_race-4#1036, applicant_race-5#1037, co-applicant_race-1#1038, co-applicant_race-2#1039, co-applicant_race-3#1040, co-applicant_race-4#1041, co-applicant_race-5#1042, applicant_race_observed#1043, co-applicant_race_observed#1044, applicant_sex#1045, co-applicant_sex#1046, applicant_sex_observed#1047, co-applicant_sex_observed#1048, applicant_age#1049, co-applicant_age#1050, applicant_age_above_62#1051, co-applicant_age_above_62#1052, submission_of_application#1053, initially_payable_to_institution#1054, aus-1#1055, aus-2#1056, aus-3#1057, aus-4#1058, aus-5#1059, denial_reason-1#1060, denial_reason-2#1061, denial_reason-3#1062, denial_reason-4#1063, tract_population#1064, tract_minority_population_percent#1065, ffiec_msa_md_median_family_income#1066, tract_to_msa_income_percentage#1067, tract_owner_occupied_units#1068, tract_one_to_four_family_homes#1069, tract_median_age_of_housing_units#1070]\n",
      "Arguments: isFinalPlan=false\n",
      "\n",
      "\n"
     ]
    }
   ],
   "source": [
    "#Q4\n",
    "\n",
    "#1. The banks table is sent to every executor via a BroadcastExchange operation.\n",
    "#2. The banks table has \"is not null\" filtering added by the optimizer.\n",
    "#3. No, the plan does not involve HashAggregates.\n",
    "\n",
    "q3_results.explain(\"formatted\")"
   ]
  },
  {
   "cell_type": "code",
   "execution_count": 7,
   "id": "3da0d152-6f30-408b-bf26-50eb03e6ed69",
   "metadata": {},
   "outputs": [
    {
     "name": "stderr",
     "output_type": "stream",
     "text": [
      "                                                                                \r"
     ]
    },
    {
     "data": {
      "text/html": [
       "<div>\n",
       "<style scoped>\n",
       "    .dataframe tbody tr th:only-of-type {\n",
       "        vertical-align: middle;\n",
       "    }\n",
       "\n",
       "    .dataframe tbody tr th {\n",
       "        vertical-align: top;\n",
       "    }\n",
       "\n",
       "    .dataframe thead th {\n",
       "        text-align: right;\n",
       "    }\n",
       "</style>\n",
       "<table border=\"1\" class=\"dataframe\">\n",
       "  <thead>\n",
       "    <tr style=\"text-align: right;\">\n",
       "      <th></th>\n",
       "      <th>census_tract</th>\n",
       "      <th>county</th>\n",
       "      <th>loan_purpose</th>\n",
       "      <th>derived_dwelling_category</th>\n",
       "      <th>thousands</th>\n",
       "      <th>interest_rate</th>\n",
       "      <th>years</th>\n",
       "      <th>action_taken</th>\n",
       "    </tr>\n",
       "  </thead>\n",
       "  <tbody>\n",
       "    <tr>\n",
       "      <th>0</th>\n",
       "      <td>55055100100</td>\n",
       "      <td>Jefferson</td>\n",
       "      <td>None</td>\n",
       "      <td>Multifamily:Site-Built</td>\n",
       "      <td>2095.0</td>\n",
       "      <td>3.9</td>\n",
       "      <td>5.0</td>\n",
       "      <td>Loan originated</td>\n",
       "    </tr>\n",
       "    <tr>\n",
       "      <th>1</th>\n",
       "      <td>55055100700</td>\n",
       "      <td>Jefferson</td>\n",
       "      <td>Home purchase</td>\n",
       "      <td>Single Family (1-4 Units):Site-Built</td>\n",
       "      <td>995.0</td>\n",
       "      <td>4.0</td>\n",
       "      <td>5.0</td>\n",
       "      <td>Loan originated</td>\n",
       "    </tr>\n",
       "    <tr>\n",
       "      <th>2</th>\n",
       "      <td>55055101300</td>\n",
       "      <td>Jefferson</td>\n",
       "      <td>Home purchase</td>\n",
       "      <td>Multifamily:Site-Built</td>\n",
       "      <td>745.0</td>\n",
       "      <td>3.75</td>\n",
       "      <td>5.0</td>\n",
       "      <td>Loan originated</td>\n",
       "    </tr>\n",
       "    <tr>\n",
       "      <th>3</th>\n",
       "      <td>55055101300</td>\n",
       "      <td>Jefferson</td>\n",
       "      <td>Home purchase</td>\n",
       "      <td>Multifamily:Site-Built</td>\n",
       "      <td>725.0</td>\n",
       "      <td>3.75</td>\n",
       "      <td>5.0</td>\n",
       "      <td>Loan originated</td>\n",
       "    </tr>\n",
       "    <tr>\n",
       "      <th>4</th>\n",
       "      <td>55055101500</td>\n",
       "      <td>Jefferson</td>\n",
       "      <td>Home purchase</td>\n",
       "      <td>Multifamily:Site-Built</td>\n",
       "      <td>605.0</td>\n",
       "      <td>3.75</td>\n",
       "      <td>5.0</td>\n",
       "      <td>Loan originated</td>\n",
       "    </tr>\n",
       "    <tr>\n",
       "      <th>5</th>\n",
       "      <td>55055100601</td>\n",
       "      <td>Jefferson</td>\n",
       "      <td>Home purchase</td>\n",
       "      <td>Single Family (1-4 Units):Site-Built</td>\n",
       "      <td>545.0</td>\n",
       "      <td>3.125</td>\n",
       "      <td>30.0</td>\n",
       "      <td>Loan originated</td>\n",
       "    </tr>\n",
       "    <tr>\n",
       "      <th>6</th>\n",
       "      <td>55133200901</td>\n",
       "      <td>Waukesha</td>\n",
       "      <td>None</td>\n",
       "      <td>Single Family (1-4 Units):Site-Built</td>\n",
       "      <td>545.0</td>\n",
       "      <td>2.875</td>\n",
       "      <td>30.0</td>\n",
       "      <td>Loan originated</td>\n",
       "    </tr>\n",
       "    <tr>\n",
       "      <th>7</th>\n",
       "      <td>55055100602</td>\n",
       "      <td>Jefferson</td>\n",
       "      <td>None</td>\n",
       "      <td>Single Family (1-4 Units):Site-Built</td>\n",
       "      <td>545.0</td>\n",
       "      <td>2.625</td>\n",
       "      <td>20.0</td>\n",
       "      <td>Loan originated</td>\n",
       "    </tr>\n",
       "    <tr>\n",
       "      <th>8</th>\n",
       "      <td>55055100700</td>\n",
       "      <td>Jefferson</td>\n",
       "      <td>Home purchase</td>\n",
       "      <td>Single Family (1-4 Units):Site-Built</td>\n",
       "      <td>535.0</td>\n",
       "      <td>2.875</td>\n",
       "      <td>30.0</td>\n",
       "      <td>Loan originated</td>\n",
       "    </tr>\n",
       "    <tr>\n",
       "      <th>9</th>\n",
       "      <td>55085970900</td>\n",
       "      <td>Oneida</td>\n",
       "      <td>Home purchase</td>\n",
       "      <td>Single Family (1-4 Units):Site-Built</td>\n",
       "      <td>525.0</td>\n",
       "      <td>3.125</td>\n",
       "      <td>30.0</td>\n",
       "      <td>Loan originated</td>\n",
       "    </tr>\n",
       "  </tbody>\n",
       "</table>\n",
       "</div>"
      ],
      "text/plain": [
       "  census_tract     county   loan_purpose  \\\n",
       "0  55055100100  Jefferson           None   \n",
       "1  55055100700  Jefferson  Home purchase   \n",
       "2  55055101300  Jefferson  Home purchase   \n",
       "3  55055101300  Jefferson  Home purchase   \n",
       "4  55055101500  Jefferson  Home purchase   \n",
       "5  55055100601  Jefferson  Home purchase   \n",
       "6  55133200901   Waukesha           None   \n",
       "7  55055100602  Jefferson           None   \n",
       "8  55055100700  Jefferson  Home purchase   \n",
       "9  55085970900     Oneida  Home purchase   \n",
       "\n",
       "              derived_dwelling_category  thousands interest_rate  years  \\\n",
       "0                Multifamily:Site-Built     2095.0           3.9    5.0   \n",
       "1  Single Family (1-4 Units):Site-Built      995.0           4.0    5.0   \n",
       "2                Multifamily:Site-Built      745.0          3.75    5.0   \n",
       "3                Multifamily:Site-Built      725.0          3.75    5.0   \n",
       "4                Multifamily:Site-Built      605.0          3.75    5.0   \n",
       "5  Single Family (1-4 Units):Site-Built      545.0         3.125   30.0   \n",
       "6  Single Family (1-4 Units):Site-Built      545.0         2.875   30.0   \n",
       "7  Single Family (1-4 Units):Site-Built      545.0         2.625   20.0   \n",
       "8  Single Family (1-4 Units):Site-Built      535.0         2.875   30.0   \n",
       "9  Single Family (1-4 Units):Site-Built      525.0         3.125   30.0   \n",
       "\n",
       "      action_taken  \n",
       "0  Loan originated  \n",
       "1  Loan originated  \n",
       "2  Loan originated  \n",
       "3  Loan originated  \n",
       "4  Loan originated  \n",
       "5  Loan originated  \n",
       "6  Loan originated  \n",
       "7  Loan originated  \n",
       "8  Loan originated  \n",
       "9  Loan originated  "
      ]
     },
     "execution_count": 7,
     "metadata": {},
     "output_type": "execute_result"
    }
   ],
   "source": [
    "#Q5\n",
    "\n",
    "#create column with county in loans\n",
    "spark.sql(\"\"\"\n",
    "SELECT *, CAST(SUBSTRING(county_code,3,3) AS int) AS county, SUBSTRING(county_code,1,2) AS state, loan_purpose AS loan_purpose_id, action_taken AS action_taken_id\n",
    "FROM loans\n",
    "\"\"\").createOrReplaceTempView('p5_loans')\n",
    "\n",
    "# distinct counties\n",
    "spark.sql(\"\"\"\n",
    "SELECT DISTINCT STATE, CAST(COUNTY AS INT), NAME\n",
    "FROM counties;\n",
    "\"\"\").createOrReplaceTempView(\"distinct_counties\")\n",
    "\n",
    "#join everything\n",
    "spark.sql(\"\"\"\n",
    "SELECT lei, banks.respondent_name, action_taken.action_taken, census_tract, loan_purpose.loan_purpose, distinct_counties.NAME,  derived_dwelling_category, loan_amount, interest_rate, loan_term\n",
    "FROM p5_loans\n",
    "LEFT JOIN banks ON p5_loans.lei = banks.lei_2020\n",
    "LEFT JOIN loan_purpose ON p5_loans.loan_purpose_id = loan_purpose.id\n",
    "LEFT JOIN action_taken ON p5_loans.action_taken_id = action_taken.id\n",
    "LEFT JOIN distinct_counties ON (p5_loans.county = distinct_counties.COUNTY AND p5_loans.state = distinct_counties.state)\n",
    "\"\"\").createOrReplaceTempView(\"p5_loans\")\n",
    "\n",
    "#Gather necessary columns\n",
    "spark.sql(\"\"\"\n",
    "SELECT census_tract, NAME AS county, loan_purpose,derived_dwelling_category, loan_amount / 1000 AS thousands, interest_rate, loan_term / 12 AS years, action_taken\n",
    "FROM p5_loans\n",
    "WHERE respondent_name = 'Badger Bank'\n",
    "ORDER BY thousands DESC\n",
    "LIMIT 10\n",
    "\"\"\").toPandas()\n"
   ]
  },
  {
   "cell_type": "code",
   "execution_count": 74,
   "id": "d1c570b9-4829-4259-8f1b-4ddf692a71dd",
   "metadata": {},
   "outputs": [
    {
     "name": "stdout",
     "output_type": "stream",
     "text": [
      "== Physical Plan ==\n",
      "AdaptiveSparkPlan (4)\n",
      "+- HashAggregate (3)\n",
      "   +- HashAggregate (2)\n",
      "      +- Scan parquet default.loans (1)\n",
      "\n",
      "\n",
      "(1) Scan parquet default.loans\n",
      "Output [2]: [county_code#976, loan_amount#993]\n",
      "Batched: true\n",
      "Location: InMemoryFileIndex [hdfs://main:9000/user/hive/warehouse/loans]\n",
      "ReadSchema: struct<county_code:string,loan_amount:double>\n",
      "SelectedBucketsCount: 8 out of 8\n",
      "\n",
      "(2) HashAggregate\n",
      "Input [2]: [county_code#976, loan_amount#993]\n",
      "Keys [1]: [county_code#976]\n",
      "Functions [1]: [partial_avg(loan_amount#993)]\n",
      "Aggregate Attributes [2]: [sum#5749, count#5750L]\n",
      "Results [3]: [county_code#976, sum#5751, count#5752L]\n",
      "\n",
      "(3) HashAggregate\n",
      "Input [3]: [county_code#976, sum#5751, count#5752L]\n",
      "Keys [1]: [county_code#976]\n",
      "Functions [1]: [avg(loan_amount#993)]\n",
      "Aggregate Attributes [1]: [avg(loan_amount#993)#5746]\n",
      "Results [2]: [county_code#976, avg(loan_amount#993)#5746 AS average_loan#5745]\n",
      "\n",
      "(4) AdaptiveSparkPlan\n",
      "Output [2]: [county_code#976, average_loan#5745]\n",
      "Arguments: isFinalPlan=false\n",
      "\n",
      "\n",
      "== Physical Plan ==\n",
      "AdaptiveSparkPlan (5)\n",
      "+- HashAggregate (4)\n",
      "   +- Exchange (3)\n",
      "      +- HashAggregate (2)\n",
      "         +- Scan parquet default.loans (1)\n",
      "\n",
      "\n",
      "(1) Scan parquet default.loans\n",
      "Output [2]: [lei#973, loan_amount#993]\n",
      "Batched: true\n",
      "Location: InMemoryFileIndex [hdfs://main:9000/user/hive/warehouse/loans]\n",
      "ReadSchema: struct<lei:string,loan_amount:double>\n",
      "\n",
      "(2) HashAggregate\n",
      "Input [2]: [lei#973, loan_amount#993]\n",
      "Keys [1]: [lei#973]\n",
      "Functions [1]: [partial_avg(loan_amount#993)]\n",
      "Aggregate Attributes [2]: [sum#5757, count#5758L]\n",
      "Results [3]: [lei#973, sum#5759, count#5760L]\n",
      "\n",
      "(3) Exchange\n",
      "Input [3]: [lei#973, sum#5759, count#5760L]\n",
      "Arguments: hashpartitioning(lei#973, 200), ENSURE_REQUIREMENTS, [plan_id=10789]\n",
      "\n",
      "(4) HashAggregate\n",
      "Input [3]: [lei#973, sum#5759, count#5760L]\n",
      "Keys [1]: [lei#973]\n",
      "Functions [1]: [avg(loan_amount#993)]\n",
      "Aggregate Attributes [1]: [avg(loan_amount#993)#5754]\n",
      "Results [2]: [lei#973, avg(loan_amount#993)#5754 AS average_loan#5753]\n",
      "\n",
      "(5) AdaptiveSparkPlan\n",
      "Output [2]: [lei#973, average_loan#5753]\n",
      "Arguments: isFinalPlan=false\n",
      "\n",
      "\n"
     ]
    }
   ],
   "source": [
    "#Q6\n",
    "\n",
    "spark.sql(\"\"\"\n",
    "SELECT county_code, AVG(loan_amount) AS average_loan\n",
    "FROM LOANS\n",
    "GROUP BY county_code \n",
    "\"\"\").explain(\"formatted\")\n",
    "\n",
    "spark.sql(\"\"\"\n",
    "SELECT lei, AVG(loan_amount) AS average_loan\n",
    "FROM LOANS\n",
    "GROUP BY lei\n",
    "\"\"\").explain(\"formatted\")\n",
    "\n",
    "# From both the physical plans spark gives us, we can see that a network i/o is required only\n",
    "# when grouping by lei as seen with the exchange operation. This is because of the way we loaded\n",
    "# our data into a hive table. By using bucketBy,\n",
    "# it partitioned our data in a Spark Dataset into a fixed number of buckets based on county_code.\n",
    "# each bucket is stored as a separate file on disk, and Spark can keep track of the bucketing metadata.\n",
    "# This will lower the network i/o as it minimizes data shuffling across the network. "
   ]
  },
  {
   "cell_type": "code",
   "execution_count": 103,
   "id": "ecc084f3-d246-4939-86d5-a880ae241844",
   "metadata": {},
   "outputs": [
    {
     "name": "stderr",
     "output_type": "stream",
     "text": [
      "                                                                                \r"
     ]
    },
    {
     "data": {
      "text/plain": [
       "Text(0, 0.5, 'Average Interest Rate')"
      ]
     },
     "execution_count": 103,
     "metadata": {},
     "output_type": "execute_result"
    },
    {
     "data": {
      "image/png": "[encoded data removed]",
      "text/plain": [
       "<Figure size 640x480 with 1 Axes>"
      ]
     },
     "metadata": {},
     "output_type": "display_data"
    }
   ],
   "source": [
    "#Q7\n",
    "wells_fargo = spark.sql(\"\"\"\n",
    "SELECT respondent_name, NAME, COUNT(*) as count, AVG(interest_rate) AS avg_intr\n",
    "FROM p5_loans\n",
    "GROUP BY respondent_name, NAME\n",
    "HAVING respondent_name = \"Wells Fargo Bank, National Association\"\n",
    "ORDER BY count DESC\n",
    "LIMIT 10\n",
    "\"\"\").toPandas()\n",
    "\n",
    "ax = wells_fargo.plot.bar(x='NAME', y='avg_intr', rot=90, legend=False)\n",
    "ax.set_xlabel(\"name\")\n",
    "ax.set_ylabel(\"Average Interest Rate\")"
   ]
  },
  {
   "cell_type": "code",
   "execution_count": 127,
   "id": "827a14cf-5748-448a-acc0-e54e12edcb41",
   "metadata": {},
   "outputs": [
    {
     "name": "stderr",
     "output_type": "stream",
     "text": [
      "                                                                                \r"
     ]
    },
    {
     "data": {
      "text/plain": [
       "Text(0, 0.5, '2nd Biggest Loan Application (Millions $)')"
      ]
     },
     "execution_count": 127,
     "metadata": {},
     "output_type": "execute_result"
    },
    {
     "data": {
      "image/png": "[encoded data removed]",
      "text/plain": [
       "<Figure size 640x480 with 1 Axes>"
      ]
     },
     "metadata": {},
     "output_type": "display_data"
    }
   ],
   "source": [
    "#Q8\n",
    "second_max_counties = spark.sql(\"\"\"\n",
    "SELECT DISTINCT NAME, nth_value(loan_amount/1000000, 2) over (partition by NAME order by loan_amount/1000000 desc) AS second_max\n",
    "FROM p5_loans\n",
    "WHERE NAME != 'None'\n",
    "ORDER BY second_max DESC\n",
    "LIMIT 10\n",
    "\"\"\").toPandas()\n",
    "\n",
    "ax = second_max_counties.plot.bar(x='NAME', y='second_max', rot=90, legend=False)\n",
    "ax.set_xlabel(\"name\")\n",
    "ax.set_ylabel(\"2nd Biggest Loan Application (Millions $)\")"
   ]
  },
  {
   "cell_type": "code",
   "execution_count": 45,
   "id": "b2060689-44cb-44eb-8cf2-e7f118019a66",
   "metadata": {},
   "outputs": [
    {
     "name": "stderr",
     "output_type": "stream",
     "text": [
      "                                                                                \r"
     ]
    },
    {
     "data": {
      "text/plain": [
       "<matplotlib.legend.Legend at 0x7f4104cfdab0>"
      ]
     },
     "execution_count": 45,
     "metadata": {},
     "output_type": "execute_result"
    },
    {
     "data": {
      "image/png": "[encoded data removed]",
      "text/plain": [
       "<Figure size 640x480 with 1 Axes>"
      ]
     },
     "metadata": {},
     "output_type": "display_data"
    }
   ],
   "source": [
    "#Q9\n",
    "import time\n",
    "import matplotlib.pyplot as plt\n",
    "\n",
    "time_list_no_cache = []\n",
    "time_list_cache = []\n",
    "cache = {}\n",
    "\n",
    "wells_fargo_loans = spark.sql(\"\"\"\n",
    "SELECT interest_rate\n",
    "FROM banks\n",
    "INNER JOIN loans\n",
    "ON banks.lei_2020 = loans.lei \n",
    "WHERE banks.respondent_name = 'Wells Fargo Bank, National Association'\n",
    "\"\"\")\n",
    "\n",
    "for i in range(10):\n",
    "    if i < 5:\n",
    "        #Perform no caching\n",
    "        start = time.time()\n",
    "        wells_fargo_loans.count();\n",
    "        end = time.time()\n",
    "        time_list_no_cache.append((end - start) * 100);\n",
    "    else:\n",
    "        #Perform caching\n",
    "        start = time.time()\n",
    "        if wells_fargo_loans in cache:\n",
    "            end = time.time();\n",
    "            time_list_cache.append((end - start) * 100)\n",
    "        else:\n",
    "            cache[wells_fargo_loans] = wells_fargo_loans.count()\n",
    "            end = time.time();\n",
    "            time_list_cache.append((end - start) * 100)\n",
    "plt.plot(list(range(5)),time_list_no_cache, label = \"No Caching\")\n",
    "plt.plot(list(range(5,10)),time_list_cache, label = \"Caching\")\n",
    "plt.xlabel('Query Number')\n",
    "plt.ylabel('Milliseconds')\n",
    "plt.legend(loc=\"upper right\")"
   ]
  },
  {
   "cell_type": "code",
   "execution_count": 71,
   "id": "3551da77-6972-468e-8195-1853960fce78",
   "metadata": {},
   "outputs": [
    {
     "name": "stderr",
     "output_type": "stream",
     "text": [
      "                                                                                \r"
     ]
    },
    {
     "data": {
      "text/plain": [
       "[<matplotlib.lines.Line2D at 0x7f40ffe80700>]"
      ]
     },
     "execution_count": 71,
     "metadata": {},
     "output_type": "execute_result"
    },
    {
     "data": {
      "image/png": "[encoded data removed]",
      "text/plain": [
       "<Figure size 640x480 with 1 Axes>"
      ]
     },
     "metadata": {},
     "output_type": "display_data"
    }
   ],
   "source": [
    "#Q10\n",
    "import requests\n",
    "\n",
    "wells_fargo_loans = wells_fargo_loans.repartition(1)\n",
    "first_worker_tasks = []\n",
    "second_worker_tasks = []\n",
    "cache = {}\n",
    "app_id = requests.get(\"http://localhost:4040/api/v1/applications\").json()[0]['id']\n",
    "# requests.get(\"http://localhost:4040/api/v1/applications/\"+app_id+\"/executors\").json()\n",
    "\n",
    "for i in range(10):\n",
    "    cache[wells_fargo_loans] = wells_fargo_loans.count()\n",
    "    info = requests.get(\"http://localhost:4040/api/v1/applications/\"+app_id+\"/executors\").json()\n",
    "    first_worker_tasks.append(info[0]['completedTasks'])\n",
    "    second_worker_tasks.append(info[1]['completedTasks'])\n",
    "\n",
    "plt.plot(list(range(10)),first_worker_tasks)\n",
    "plt.plot(list(range(10)),second_worker_tasks)"
   ]
  }
 ],
 "metadata": {
  "kernelspec": {
   "display_name": "Python 3 (ipykernel)",
   "language": "python",
   "name": "python3"
  },
  "language_info": {
   "codemirror_mode": {
    "name": "ipython",
    "version": 3
   },
   "file_extension": ".py",
   "mimetype": "text/x-python",
   "name": "python",
   "nbconvert_exporter": "python",
   "pygments_lexer": "ipython3",
   "version": "3.10.6"
  }
 },
 "nbformat": 4,
 "nbformat_minor": 5
}
